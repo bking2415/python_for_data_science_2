{
 "cells": [
  {
   "cell_type": "code",
   "execution_count": 1,
   "metadata": {},
   "outputs": [
    {
     "data": {
      "text/plain": [
       "'C:\\\\Users\\\\piers\\\\Anaconda3;C:\\\\Users\\\\piers\\\\Anaconda3\\\\Library\\\\mingw-w64\\\\bin;C:\\\\Users\\\\piers\\\\Anaconda3\\\\Library\\\\usr\\\\bin;C:\\\\Users\\\\piers\\\\Anaconda3\\\\Library\\\\bin;C:\\\\Users\\\\piers\\\\Anaconda3\\\\Scripts;C:\\\\Program Files (x86)\\\\Intel\\\\Intel(R) Management Engine Components\\\\iCLS\\\\;C:\\\\Program Files\\\\Intel\\\\Intel(R) Management Engine Components\\\\iCLS\\\\;C:\\\\windows\\\\system32;C:\\\\windows;C:\\\\windows\\\\System32\\\\Wbem;C:\\\\windows\\\\System32\\\\WindowsPowerShell\\\\v1.0\\\\;C:\\\\windows\\\\System32\\\\OpenSSH\\\\;C:\\\\Program Files (x86)\\\\NVIDIA Corporation\\\\PhysX\\\\Common;C:\\\\Program Files (x86)\\\\Intel\\\\Intel(R) Management Engine Components\\\\DAL;C:\\\\Program Files\\\\Intel\\\\Intel(R) Management Engine Components\\\\DAL;C:\\\\Program Files (x86)\\\\Intel\\\\Intel(R) Management Engine Components\\\\IPT;C:\\\\Program Files\\\\Intel\\\\Intel(R) Management Engine Components\\\\IPT;C:\\\\Program Files\\\\Intel\\\\WiFi\\\\bin\\\\;C:\\\\Program Files\\\\Common Files\\\\Intel\\\\WirelessCommon\\\\;C:\\\\Users\\\\piers\\\\AppData\\\\Local\\\\Microsoft\\\\WindowsApps;C:\\\\Program Files (x86)\\\\Graphviz2.38\\\\bin;'"
      ]
     },
     "execution_count": 1,
     "metadata": {},
     "output_type": "execute_result"
    }
   ],
   "source": [
    "import os\n",
    "os.environ[\"path\"]"
   ]
  },
  {
   "cell_type": "code",
   "execution_count": 2,
   "metadata": {},
   "outputs": [],
   "source": [
    "os.environ[\"path\"]=os.environ[\"path\"]+\";C:\\\\Program Files (x86)\\\\Graphviz2.38\\\\bin\""
   ]
  },
  {
   "cell_type": "code",
   "execution_count": 3,
   "metadata": {},
   "outputs": [
    {
     "data": {
      "text/plain": [
       "'C:\\\\Users\\\\piers\\\\Anaconda3;C:\\\\Users\\\\piers\\\\Anaconda3\\\\Library\\\\mingw-w64\\\\bin;C:\\\\Users\\\\piers\\\\Anaconda3\\\\Library\\\\usr\\\\bin;C:\\\\Users\\\\piers\\\\Anaconda3\\\\Library\\\\bin;C:\\\\Users\\\\piers\\\\Anaconda3\\\\Scripts;C:\\\\Program Files (x86)\\\\Intel\\\\Intel(R) Management Engine Components\\\\iCLS\\\\;C:\\\\Program Files\\\\Intel\\\\Intel(R) Management Engine Components\\\\iCLS\\\\;C:\\\\windows\\\\system32;C:\\\\windows;C:\\\\windows\\\\System32\\\\Wbem;C:\\\\windows\\\\System32\\\\WindowsPowerShell\\\\v1.0\\\\;C:\\\\windows\\\\System32\\\\OpenSSH\\\\;C:\\\\Program Files (x86)\\\\NVIDIA Corporation\\\\PhysX\\\\Common;C:\\\\Program Files (x86)\\\\Intel\\\\Intel(R) Management Engine Components\\\\DAL;C:\\\\Program Files\\\\Intel\\\\Intel(R) Management Engine Components\\\\DAL;C:\\\\Program Files (x86)\\\\Intel\\\\Intel(R) Management Engine Components\\\\IPT;C:\\\\Program Files\\\\Intel\\\\Intel(R) Management Engine Components\\\\IPT;C:\\\\Program Files\\\\Intel\\\\WiFi\\\\bin\\\\;C:\\\\Program Files\\\\Common Files\\\\Intel\\\\WirelessCommon\\\\;C:\\\\Users\\\\piers\\\\AppData\\\\Local\\\\Microsoft\\\\WindowsApps;C:\\\\Program Files (x86)\\\\Graphviz2.38\\\\bin;;C:\\\\Program Files (x86)\\\\Graphviz2.38\\\\bin'"
      ]
     },
     "execution_count": 3,
     "metadata": {},
     "output_type": "execute_result"
    }
   ],
   "source": [
    "os.environ[\"path\"]"
   ]
  },
  {
   "cell_type": "code",
   "execution_count": null,
   "metadata": {},
   "outputs": [],
   "source": []
  }
 ],
 "metadata": {
  "kernelspec": {
   "display_name": "Python 3",
   "language": "python",
   "name": "python3"
  },
  "language_info": {
   "codemirror_mode": {
    "name": "ipython",
    "version": 3
   },
   "file_extension": ".py",
   "mimetype": "text/x-python",
   "name": "python",
   "nbconvert_exporter": "python",
   "pygments_lexer": "ipython3",
   "version": "3.7.3"
  }
 },
 "nbformat": 4,
 "nbformat_minor": 2
}
