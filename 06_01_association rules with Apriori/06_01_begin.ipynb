{
 "cells": [
  {
   "cell_type": "markdown",
   "metadata": {},
   "source": [
    "# Chapter 6 - Other Popular Machine Learning Methods\n",
    "## Segment 1 - Association Rule Mining Using Apriori Algorithm"
   ]
  },
  {
   "cell_type": "markdown",
   "metadata": {},
   "source": [
    "# Import the required libraries"
   ]
  },
  {
   "cell_type": "code",
   "execution_count": 1,
   "metadata": {},
   "outputs": [
    {
     "name": "stdout",
     "output_type": "stream",
     "text": [
      "Requirement already satisfied: mlxtend in /Users/brandonking/PycharmProjects/python_for_data_science_2/tensorflow/lib/python3.8/site-packages (0.19.0)\r\n",
      "Requirement already satisfied: joblib>=0.13.2 in /Users/brandonking/PycharmProjects/python_for_data_science_2/tensorflow/lib/python3.8/site-packages (from mlxtend) (1.1.0)\r\n",
      "Requirement already satisfied: scipy>=1.2.1 in /Users/brandonking/PycharmProjects/python_for_data_science_2/tensorflow/lib/python3.8/site-packages (from mlxtend) (1.7.2)\r\n",
      "Requirement already satisfied: scikit-learn>=0.20.3 in /Users/brandonking/PycharmProjects/python_for_data_science_2/tensorflow/lib/python3.8/site-packages (from mlxtend) (1.0.1)\r\n",
      "Requirement already satisfied: matplotlib>=3.0.0 in /Users/brandonking/PycharmProjects/python_for_data_science_2/tensorflow/lib/python3.8/site-packages (from mlxtend) (3.4.3)\r\n",
      "Requirement already satisfied: numpy>=1.16.2 in /Users/brandonking/PycharmProjects/python_for_data_science_2/tensorflow/lib/python3.8/site-packages (from mlxtend) (1.21.4)\r\n",
      "Requirement already satisfied: setuptools in /Users/brandonking/PycharmProjects/python_for_data_science_2/tensorflow/lib/python3.8/site-packages (from mlxtend) (57.0.0)\r\n",
      "Requirement already satisfied: pandas>=0.24.2 in /Users/brandonking/PycharmProjects/python_for_data_science_2/tensorflow/lib/python3.8/site-packages (from mlxtend) (1.3.4)\r\n",
      "Requirement already satisfied: kiwisolver>=1.0.1 in /Users/brandonking/PycharmProjects/python_for_data_science_2/tensorflow/lib/python3.8/site-packages (from matplotlib>=3.0.0->mlxtend) (1.3.2)\r\n",
      "Requirement already satisfied: pyparsing>=2.2.1 in /Users/brandonking/PycharmProjects/python_for_data_science_2/tensorflow/lib/python3.8/site-packages (from matplotlib>=3.0.0->mlxtend) (2.4.7)\r\n",
      "Requirement already satisfied: cycler>=0.10 in /Users/brandonking/PycharmProjects/python_for_data_science_2/tensorflow/lib/python3.8/site-packages (from matplotlib>=3.0.0->mlxtend) (0.11.0)\r\n",
      "Requirement already satisfied: python-dateutil>=2.7 in /Users/brandonking/PycharmProjects/python_for_data_science_2/tensorflow/lib/python3.8/site-packages (from matplotlib>=3.0.0->mlxtend) (2.8.2)\r\n",
      "Requirement already satisfied: pillow>=6.2.0 in /Users/brandonking/PycharmProjects/python_for_data_science_2/tensorflow/lib/python3.8/site-packages (from matplotlib>=3.0.0->mlxtend) (8.4.0)\r\n",
      "Requirement already satisfied: pytz>=2017.3 in /Users/brandonking/PycharmProjects/python_for_data_science_2/tensorflow/lib/python3.8/site-packages (from pandas>=0.24.2->mlxtend) (2021.3)\r\n",
      "Requirement already satisfied: six>=1.5 in /Users/brandonking/PycharmProjects/python_for_data_science_2/tensorflow/lib/python3.8/site-packages (from python-dateutil>=2.7->matplotlib>=3.0.0->mlxtend) (1.16.0)\r\n",
      "Requirement already satisfied: threadpoolctl>=2.0.0 in /Users/brandonking/PycharmProjects/python_for_data_science_2/tensorflow/lib/python3.8/site-packages (from scikit-learn>=0.20.3->mlxtend) (3.0.0)\r\n",
      "\u001B[33mWARNING: You are using pip version 21.1.2; however, version 21.3.1 is available.\r\n",
      "You should consider upgrading via the '/Users/brandonking/PycharmProjects/python_for_data_science_2/tensorflow/bin/python -m pip install --upgrade pip' command.\u001B[0m\r\n"
     ]
    }
   ],
   "source": [
    "! pip install mlxtend"
   ]
  },
  {
   "cell_type": "code",
   "execution_count": 3,
   "metadata": {
    "colab": {
     "autoexec": {
      "startup": false,
      "wait_interval": 0
     }
    },
    "colab_type": "code",
    "id": "YofDl1FACaFf"
   },
   "outputs": [],
   "source": [
    "import pandas as pd\n",
    "from mlxtend.frequent_patterns import apriori\n",
    "from mlxtend.frequent_patterns import association_rules"
   ]
  },
  {
   "cell_type": "markdown",
   "metadata": {},
   "source": [
    "# Data Format"
   ]
  },
  {
   "cell_type": "code",
   "execution_count": 4,
   "metadata": {},
   "outputs": [],
   "source": [
    "# Read in data\n",
    "address = '/Users/brandonking/PycharmProjects/python_for_data_science_2/Data/groceries.csv'\n",
    "data = pd.read_csv(address)"
   ]
  },
  {
   "cell_type": "code",
   "execution_count": 5,
   "metadata": {},
   "outputs": [
    {
     "data": {
      "text/plain": "                  1                    2               3  \\\n0      citrus fruit  semi-finished bread       margarine   \n1    tropical fruit               yogurt          coffee   \n2        whole milk                  NaN             NaN   \n3         pip fruit               yogurt   cream cheese    \n4  other vegetables           whole milk  condensed milk   \n\n                          4    5    6    7    8    9  \n0               ready soups  NaN  NaN  NaN  NaN  NaN  \n1                       NaN  NaN  NaN  NaN  NaN  NaN  \n2                       NaN  NaN  NaN  NaN  NaN  NaN  \n3              meat spreads  NaN  NaN  NaN  NaN  NaN  \n4  long life bakery product  NaN  NaN  NaN  NaN  NaN  ",
      "text/html": "<div>\n<style scoped>\n    .dataframe tbody tr th:only-of-type {\n        vertical-align: middle;\n    }\n\n    .dataframe tbody tr th {\n        vertical-align: top;\n    }\n\n    .dataframe thead th {\n        text-align: right;\n    }\n</style>\n<table border=\"1\" class=\"dataframe\">\n  <thead>\n    <tr style=\"text-align: right;\">\n      <th></th>\n      <th>1</th>\n      <th>2</th>\n      <th>3</th>\n      <th>4</th>\n      <th>5</th>\n      <th>6</th>\n      <th>7</th>\n      <th>8</th>\n      <th>9</th>\n    </tr>\n  </thead>\n  <tbody>\n    <tr>\n      <th>0</th>\n      <td>citrus fruit</td>\n      <td>semi-finished bread</td>\n      <td>margarine</td>\n      <td>ready soups</td>\n      <td>NaN</td>\n      <td>NaN</td>\n      <td>NaN</td>\n      <td>NaN</td>\n      <td>NaN</td>\n    </tr>\n    <tr>\n      <th>1</th>\n      <td>tropical fruit</td>\n      <td>yogurt</td>\n      <td>coffee</td>\n      <td>NaN</td>\n      <td>NaN</td>\n      <td>NaN</td>\n      <td>NaN</td>\n      <td>NaN</td>\n      <td>NaN</td>\n    </tr>\n    <tr>\n      <th>2</th>\n      <td>whole milk</td>\n      <td>NaN</td>\n      <td>NaN</td>\n      <td>NaN</td>\n      <td>NaN</td>\n      <td>NaN</td>\n      <td>NaN</td>\n      <td>NaN</td>\n      <td>NaN</td>\n    </tr>\n    <tr>\n      <th>3</th>\n      <td>pip fruit</td>\n      <td>yogurt</td>\n      <td>cream cheese</td>\n      <td>meat spreads</td>\n      <td>NaN</td>\n      <td>NaN</td>\n      <td>NaN</td>\n      <td>NaN</td>\n      <td>NaN</td>\n    </tr>\n    <tr>\n      <th>4</th>\n      <td>other vegetables</td>\n      <td>whole milk</td>\n      <td>condensed milk</td>\n      <td>long life bakery product</td>\n      <td>NaN</td>\n      <td>NaN</td>\n      <td>NaN</td>\n      <td>NaN</td>\n      <td>NaN</td>\n    </tr>\n  </tbody>\n</table>\n</div>"
     },
     "execution_count": 5,
     "metadata": {},
     "output_type": "execute_result"
    }
   ],
   "source": [
    "data.head()"
   ]
  },
  {
   "cell_type": "markdown",
   "metadata": {},
   "source": [
    "# Data Conversion"
   ]
  },
  {
   "cell_type": "code",
   "execution_count": 6,
   "metadata": {},
   "outputs": [],
   "source": [
    "basket_sets = pd.get_dummies(data)"
   ]
  },
  {
   "cell_type": "code",
   "execution_count": 7,
   "metadata": {
    "colab": {
     "autoexec": {
      "startup": false,
      "wait_interval": 0
     }
    },
    "colab_type": "code",
    "id": "u-AUvEdhCoMP"
   },
   "outputs": [
    {
     "data": {
      "text/plain": "   1_Instant food products  1_UHT-milk  1_artif. sweetener  1_baby cosmetics  \\\n0                        0           0                   0                 0   \n1                        0           0                   0                 0   \n2                        0           0                   0                 0   \n3                        0           0                   0                 0   \n4                        0           0                   0                 0   \n\n   1_bags  1_baking powder  1_bathroom cleaner  1_beef  1_berries  \\\n0       0                0                   0       0          0   \n1       0                0                   0       0          0   \n2       0                0                   0       0          0   \n3       0                0                   0       0          0   \n4       0                0                   0       0          0   \n\n   1_beverages  ...  9_sweet spreads  9_tea  9_vinegar  9_waffles  \\\n0            0  ...                0      0          0          0   \n1            0  ...                0      0          0          0   \n2            0  ...                0      0          0          0   \n3            0  ...                0      0          0          0   \n4            0  ...                0      0          0          0   \n\n   9_whipped/sour cream  9_white bread  9_white wine  9_whole milk  9_yogurt  \\\n0                     0              0             0             0         0   \n1                     0              0             0             0         0   \n2                     0              0             0             0         0   \n3                     0              0             0             0         0   \n4                     0              0             0             0         0   \n\n   9_zwieback  \n0           0  \n1           0  \n2           0  \n3           0  \n4           0  \n\n[5 rows x 1113 columns]",
      "text/html": "<div>\n<style scoped>\n    .dataframe tbody tr th:only-of-type {\n        vertical-align: middle;\n    }\n\n    .dataframe tbody tr th {\n        vertical-align: top;\n    }\n\n    .dataframe thead th {\n        text-align: right;\n    }\n</style>\n<table border=\"1\" class=\"dataframe\">\n  <thead>\n    <tr style=\"text-align: right;\">\n      <th></th>\n      <th>1_Instant food products</th>\n      <th>1_UHT-milk</th>\n      <th>1_artif. sweetener</th>\n      <th>1_baby cosmetics</th>\n      <th>1_bags</th>\n      <th>1_baking powder</th>\n      <th>1_bathroom cleaner</th>\n      <th>1_beef</th>\n      <th>1_berries</th>\n      <th>1_beverages</th>\n      <th>...</th>\n      <th>9_sweet spreads</th>\n      <th>9_tea</th>\n      <th>9_vinegar</th>\n      <th>9_waffles</th>\n      <th>9_whipped/sour cream</th>\n      <th>9_white bread</th>\n      <th>9_white wine</th>\n      <th>9_whole milk</th>\n      <th>9_yogurt</th>\n      <th>9_zwieback</th>\n    </tr>\n  </thead>\n  <tbody>\n    <tr>\n      <th>0</th>\n      <td>0</td>\n      <td>0</td>\n      <td>0</td>\n      <td>0</td>\n      <td>0</td>\n      <td>0</td>\n      <td>0</td>\n      <td>0</td>\n      <td>0</td>\n      <td>0</td>\n      <td>...</td>\n      <td>0</td>\n      <td>0</td>\n      <td>0</td>\n      <td>0</td>\n      <td>0</td>\n      <td>0</td>\n      <td>0</td>\n      <td>0</td>\n      <td>0</td>\n      <td>0</td>\n    </tr>\n    <tr>\n      <th>1</th>\n      <td>0</td>\n      <td>0</td>\n      <td>0</td>\n      <td>0</td>\n      <td>0</td>\n      <td>0</td>\n      <td>0</td>\n      <td>0</td>\n      <td>0</td>\n      <td>0</td>\n      <td>...</td>\n      <td>0</td>\n      <td>0</td>\n      <td>0</td>\n      <td>0</td>\n      <td>0</td>\n      <td>0</td>\n      <td>0</td>\n      <td>0</td>\n      <td>0</td>\n      <td>0</td>\n    </tr>\n    <tr>\n      <th>2</th>\n      <td>0</td>\n      <td>0</td>\n      <td>0</td>\n      <td>0</td>\n      <td>0</td>\n      <td>0</td>\n      <td>0</td>\n      <td>0</td>\n      <td>0</td>\n      <td>0</td>\n      <td>...</td>\n      <td>0</td>\n      <td>0</td>\n      <td>0</td>\n      <td>0</td>\n      <td>0</td>\n      <td>0</td>\n      <td>0</td>\n      <td>0</td>\n      <td>0</td>\n      <td>0</td>\n    </tr>\n    <tr>\n      <th>3</th>\n      <td>0</td>\n      <td>0</td>\n      <td>0</td>\n      <td>0</td>\n      <td>0</td>\n      <td>0</td>\n      <td>0</td>\n      <td>0</td>\n      <td>0</td>\n      <td>0</td>\n      <td>...</td>\n      <td>0</td>\n      <td>0</td>\n      <td>0</td>\n      <td>0</td>\n      <td>0</td>\n      <td>0</td>\n      <td>0</td>\n      <td>0</td>\n      <td>0</td>\n      <td>0</td>\n    </tr>\n    <tr>\n      <th>4</th>\n      <td>0</td>\n      <td>0</td>\n      <td>0</td>\n      <td>0</td>\n      <td>0</td>\n      <td>0</td>\n      <td>0</td>\n      <td>0</td>\n      <td>0</td>\n      <td>0</td>\n      <td>...</td>\n      <td>0</td>\n      <td>0</td>\n      <td>0</td>\n      <td>0</td>\n      <td>0</td>\n      <td>0</td>\n      <td>0</td>\n      <td>0</td>\n      <td>0</td>\n      <td>0</td>\n    </tr>\n  </tbody>\n</table>\n<p>5 rows × 1113 columns</p>\n</div>"
     },
     "execution_count": 7,
     "metadata": {},
     "output_type": "execute_result"
    }
   ],
   "source": [
    "# Top of OnHotEncoder DataFrame\n",
    "basket_sets.head()"
   ]
  },
  {
   "cell_type": "code",
   "execution_count": 10,
   "outputs": [
    {
     "name": "stdout",
     "output_type": "stream",
     "text": [
      "<class 'pandas.core.frame.DataFrame'>\n",
      "RangeIndex: 3090 entries, 0 to 3089\n",
      "Columns: 1113 entries, 1_Instant food products to 9_zwieback\n",
      "dtypes: uint8(1113)\n",
      "memory usage: 3.3 MB\n"
     ]
    }
   ],
   "source": [
    "# Describe data\n",
    "basket_sets.info()"
   ],
   "metadata": {
    "collapsed": false,
    "pycharm": {
     "name": "#%%\n"
    }
   }
  },
  {
   "cell_type": "markdown",
   "metadata": {},
   "source": [
    "# Support Calculation\n",
    "## How popular an item is"
   ]
  },
  {
   "cell_type": "code",
   "execution_count": 11,
   "metadata": {
    "colab": {
     "autoexec": {
      "startup": false,
      "wait_interval": 0
     }
    },
    "colab_type": "code",
    "id": "VYR9vnn0CqU1"
   },
   "outputs": [
    {
     "data": {
      "text/plain": "     support    itemsets\n0   0.030421         (7)\n1   0.034951        (17)\n2   0.029126        (23)\n3   0.049191        (26)\n4   0.064401        (47)\n5   0.044660        (83)\n6   0.024272        (90)\n7   0.040453        (92)\n8   0.038835        (99)\n9   0.033981       (100)\n10  0.076052       (105)\n11  0.028803       (111)\n12  0.044984       (123)\n13  0.073463       (130)\n14  0.022977       (131)\n15  0.028803       (159)\n16  0.058900       (217)\n17  0.022977       (224)\n18  0.040129       (232)\n19  0.036893       (233)\n20  0.031068       (243)\n21  0.034628       (256)\n22  0.062136       (263)\n23  0.028479       (264)\n24  0.045955       (351)\n25  0.033010       (366)\n26  0.024272       (378)\n27  0.057929       (397)\n28  0.023301       (398)\n29  0.020712       (479)\n30  0.024595       (497)\n31  0.024272       (510)\n32  0.033333       (531)\n33  0.023301       (532)\n34  0.020065       (631)\n35  0.021036  (217, 397)",
      "text/html": "<div>\n<style scoped>\n    .dataframe tbody tr th:only-of-type {\n        vertical-align: middle;\n    }\n\n    .dataframe tbody tr th {\n        vertical-align: top;\n    }\n\n    .dataframe thead th {\n        text-align: right;\n    }\n</style>\n<table border=\"1\" class=\"dataframe\">\n  <thead>\n    <tr style=\"text-align: right;\">\n      <th></th>\n      <th>support</th>\n      <th>itemsets</th>\n    </tr>\n  </thead>\n  <tbody>\n    <tr>\n      <th>0</th>\n      <td>0.030421</td>\n      <td>(7)</td>\n    </tr>\n    <tr>\n      <th>1</th>\n      <td>0.034951</td>\n      <td>(17)</td>\n    </tr>\n    <tr>\n      <th>2</th>\n      <td>0.029126</td>\n      <td>(23)</td>\n    </tr>\n    <tr>\n      <th>3</th>\n      <td>0.049191</td>\n      <td>(26)</td>\n    </tr>\n    <tr>\n      <th>4</th>\n      <td>0.064401</td>\n      <td>(47)</td>\n    </tr>\n    <tr>\n      <th>5</th>\n      <td>0.044660</td>\n      <td>(83)</td>\n    </tr>\n    <tr>\n      <th>6</th>\n      <td>0.024272</td>\n      <td>(90)</td>\n    </tr>\n    <tr>\n      <th>7</th>\n      <td>0.040453</td>\n      <td>(92)</td>\n    </tr>\n    <tr>\n      <th>8</th>\n      <td>0.038835</td>\n      <td>(99)</td>\n    </tr>\n    <tr>\n      <th>9</th>\n      <td>0.033981</td>\n      <td>(100)</td>\n    </tr>\n    <tr>\n      <th>10</th>\n      <td>0.076052</td>\n      <td>(105)</td>\n    </tr>\n    <tr>\n      <th>11</th>\n      <td>0.028803</td>\n      <td>(111)</td>\n    </tr>\n    <tr>\n      <th>12</th>\n      <td>0.044984</td>\n      <td>(123)</td>\n    </tr>\n    <tr>\n      <th>13</th>\n      <td>0.073463</td>\n      <td>(130)</td>\n    </tr>\n    <tr>\n      <th>14</th>\n      <td>0.022977</td>\n      <td>(131)</td>\n    </tr>\n    <tr>\n      <th>15</th>\n      <td>0.028803</td>\n      <td>(159)</td>\n    </tr>\n    <tr>\n      <th>16</th>\n      <td>0.058900</td>\n      <td>(217)</td>\n    </tr>\n    <tr>\n      <th>17</th>\n      <td>0.022977</td>\n      <td>(224)</td>\n    </tr>\n    <tr>\n      <th>18</th>\n      <td>0.040129</td>\n      <td>(232)</td>\n    </tr>\n    <tr>\n      <th>19</th>\n      <td>0.036893</td>\n      <td>(233)</td>\n    </tr>\n    <tr>\n      <th>20</th>\n      <td>0.031068</td>\n      <td>(243)</td>\n    </tr>\n    <tr>\n      <th>21</th>\n      <td>0.034628</td>\n      <td>(256)</td>\n    </tr>\n    <tr>\n      <th>22</th>\n      <td>0.062136</td>\n      <td>(263)</td>\n    </tr>\n    <tr>\n      <th>23</th>\n      <td>0.028479</td>\n      <td>(264)</td>\n    </tr>\n    <tr>\n      <th>24</th>\n      <td>0.045955</td>\n      <td>(351)</td>\n    </tr>\n    <tr>\n      <th>25</th>\n      <td>0.033010</td>\n      <td>(366)</td>\n    </tr>\n    <tr>\n      <th>26</th>\n      <td>0.024272</td>\n      <td>(378)</td>\n    </tr>\n    <tr>\n      <th>27</th>\n      <td>0.057929</td>\n      <td>(397)</td>\n    </tr>\n    <tr>\n      <th>28</th>\n      <td>0.023301</td>\n      <td>(398)</td>\n    </tr>\n    <tr>\n      <th>29</th>\n      <td>0.020712</td>\n      <td>(479)</td>\n    </tr>\n    <tr>\n      <th>30</th>\n      <td>0.024595</td>\n      <td>(497)</td>\n    </tr>\n    <tr>\n      <th>31</th>\n      <td>0.024272</td>\n      <td>(510)</td>\n    </tr>\n    <tr>\n      <th>32</th>\n      <td>0.033333</td>\n      <td>(531)</td>\n    </tr>\n    <tr>\n      <th>33</th>\n      <td>0.023301</td>\n      <td>(532)</td>\n    </tr>\n    <tr>\n      <th>34</th>\n      <td>0.020065</td>\n      <td>(631)</td>\n    </tr>\n    <tr>\n      <th>35</th>\n      <td>0.021036</td>\n      <td>(217, 397)</td>\n    </tr>\n  </tbody>\n</table>\n</div>"
     },
     "execution_count": 11,
     "metadata": {},
     "output_type": "execute_result"
    }
   ],
   "source": [
    "# Items with support greater than 0.02\n",
    "apriori(basket_sets, min_support=0.02)"
   ]
  },
  {
   "cell_type": "code",
   "execution_count": 12,
   "metadata": {
    "colab": {
     "autoexec": {
      "startup": false,
      "wait_interval": 0
     }
    },
    "colab_type": "code",
    "id": "pi8kf6E4JPlM"
   },
   "outputs": [
    {
     "data": {
      "text/plain": "     support                            itemsets\n0   0.030421                            (1_beef)\n1   0.034951                     (1_canned beer)\n2   0.029126                         (1_chicken)\n3   0.049191                    (1_citrus fruit)\n4   0.064401                     (1_frankfurter)\n5   0.044660                (1_other vegetables)\n6   0.024272                       (1_pip fruit)\n7   0.040453                            (1_pork)\n8   0.038835                      (1_rolls/buns)\n9   0.033981                 (1_root vegetables)\n10  0.076052                         (1_sausage)\n11  0.028803                            (1_soda)\n12  0.044984                  (1_tropical fruit)\n13  0.073463                      (1_whole milk)\n14  0.022977                          (1_yogurt)\n15  0.028803                    (2_citrus fruit)\n16  0.058900                (2_other vegetables)\n17  0.022977                       (2_pip fruit)\n18  0.040129                      (2_rolls/buns)\n19  0.036893                 (2_root vegetables)\n20  0.031068                            (2_soda)\n21  0.034628                  (2_tropical fruit)\n22  0.062136                      (2_whole milk)\n23  0.028479                          (2_yogurt)\n24  0.045955                (3_other vegetables)\n25  0.033010                      (3_rolls/buns)\n26  0.024272                            (3_soda)\n27  0.057929                      (3_whole milk)\n28  0.023301                          (3_yogurt)\n29  0.020712                (4_other vegetables)\n30  0.024595                      (4_rolls/buns)\n31  0.024272                            (4_soda)\n32  0.033333                      (4_whole milk)\n33  0.023301                          (4_yogurt)\n34  0.020065                      (5_rolls/buns)\n35  0.021036  (3_whole milk, 2_other vegetables)",
      "text/html": "<div>\n<style scoped>\n    .dataframe tbody tr th:only-of-type {\n        vertical-align: middle;\n    }\n\n    .dataframe tbody tr th {\n        vertical-align: top;\n    }\n\n    .dataframe thead th {\n        text-align: right;\n    }\n</style>\n<table border=\"1\" class=\"dataframe\">\n  <thead>\n    <tr style=\"text-align: right;\">\n      <th></th>\n      <th>support</th>\n      <th>itemsets</th>\n    </tr>\n  </thead>\n  <tbody>\n    <tr>\n      <th>0</th>\n      <td>0.030421</td>\n      <td>(1_beef)</td>\n    </tr>\n    <tr>\n      <th>1</th>\n      <td>0.034951</td>\n      <td>(1_canned beer)</td>\n    </tr>\n    <tr>\n      <th>2</th>\n      <td>0.029126</td>\n      <td>(1_chicken)</td>\n    </tr>\n    <tr>\n      <th>3</th>\n      <td>0.049191</td>\n      <td>(1_citrus fruit)</td>\n    </tr>\n    <tr>\n      <th>4</th>\n      <td>0.064401</td>\n      <td>(1_frankfurter)</td>\n    </tr>\n    <tr>\n      <th>5</th>\n      <td>0.044660</td>\n      <td>(1_other vegetables)</td>\n    </tr>\n    <tr>\n      <th>6</th>\n      <td>0.024272</td>\n      <td>(1_pip fruit)</td>\n    </tr>\n    <tr>\n      <th>7</th>\n      <td>0.040453</td>\n      <td>(1_pork)</td>\n    </tr>\n    <tr>\n      <th>8</th>\n      <td>0.038835</td>\n      <td>(1_rolls/buns)</td>\n    </tr>\n    <tr>\n      <th>9</th>\n      <td>0.033981</td>\n      <td>(1_root vegetables)</td>\n    </tr>\n    <tr>\n      <th>10</th>\n      <td>0.076052</td>\n      <td>(1_sausage)</td>\n    </tr>\n    <tr>\n      <th>11</th>\n      <td>0.028803</td>\n      <td>(1_soda)</td>\n    </tr>\n    <tr>\n      <th>12</th>\n      <td>0.044984</td>\n      <td>(1_tropical fruit)</td>\n    </tr>\n    <tr>\n      <th>13</th>\n      <td>0.073463</td>\n      <td>(1_whole milk)</td>\n    </tr>\n    <tr>\n      <th>14</th>\n      <td>0.022977</td>\n      <td>(1_yogurt)</td>\n    </tr>\n    <tr>\n      <th>15</th>\n      <td>0.028803</td>\n      <td>(2_citrus fruit)</td>\n    </tr>\n    <tr>\n      <th>16</th>\n      <td>0.058900</td>\n      <td>(2_other vegetables)</td>\n    </tr>\n    <tr>\n      <th>17</th>\n      <td>0.022977</td>\n      <td>(2_pip fruit)</td>\n    </tr>\n    <tr>\n      <th>18</th>\n      <td>0.040129</td>\n      <td>(2_rolls/buns)</td>\n    </tr>\n    <tr>\n      <th>19</th>\n      <td>0.036893</td>\n      <td>(2_root vegetables)</td>\n    </tr>\n    <tr>\n      <th>20</th>\n      <td>0.031068</td>\n      <td>(2_soda)</td>\n    </tr>\n    <tr>\n      <th>21</th>\n      <td>0.034628</td>\n      <td>(2_tropical fruit)</td>\n    </tr>\n    <tr>\n      <th>22</th>\n      <td>0.062136</td>\n      <td>(2_whole milk)</td>\n    </tr>\n    <tr>\n      <th>23</th>\n      <td>0.028479</td>\n      <td>(2_yogurt)</td>\n    </tr>\n    <tr>\n      <th>24</th>\n      <td>0.045955</td>\n      <td>(3_other vegetables)</td>\n    </tr>\n    <tr>\n      <th>25</th>\n      <td>0.033010</td>\n      <td>(3_rolls/buns)</td>\n    </tr>\n    <tr>\n      <th>26</th>\n      <td>0.024272</td>\n      <td>(3_soda)</td>\n    </tr>\n    <tr>\n      <th>27</th>\n      <td>0.057929</td>\n      <td>(3_whole milk)</td>\n    </tr>\n    <tr>\n      <th>28</th>\n      <td>0.023301</td>\n      <td>(3_yogurt)</td>\n    </tr>\n    <tr>\n      <th>29</th>\n      <td>0.020712</td>\n      <td>(4_other vegetables)</td>\n    </tr>\n    <tr>\n      <th>30</th>\n      <td>0.024595</td>\n      <td>(4_rolls/buns)</td>\n    </tr>\n    <tr>\n      <th>31</th>\n      <td>0.024272</td>\n      <td>(4_soda)</td>\n    </tr>\n    <tr>\n      <th>32</th>\n      <td>0.033333</td>\n      <td>(4_whole milk)</td>\n    </tr>\n    <tr>\n      <th>33</th>\n      <td>0.023301</td>\n      <td>(4_yogurt)</td>\n    </tr>\n    <tr>\n      <th>34</th>\n      <td>0.020065</td>\n      <td>(5_rolls/buns)</td>\n    </tr>\n    <tr>\n      <th>35</th>\n      <td>0.021036</td>\n      <td>(3_whole milk, 2_other vegetables)</td>\n    </tr>\n  </tbody>\n</table>\n</div>"
     },
     "execution_count": 12,
     "metadata": {},
     "output_type": "execute_result"
    }
   ],
   "source": [
    "apriori(basket_sets, min_support=0.02, use_colnames=True)"
   ]
  },
  {
   "cell_type": "code",
   "execution_count": 13,
   "metadata": {
    "colab": {
     "autoexec": {
      "startup": false,
      "wait_interval": 0
     }
    },
    "colab_type": "code",
    "id": "7psb5PdGPIS4"
   },
   "outputs": [
    {
     "data": {
      "text/plain": "      support                                           itemsets  length\n0    0.006472                                       (1_UHT-milk)       1\n1    0.030421                                           (1_beef)       1\n2    0.011974                                        (1_berries)       1\n3    0.008414                                      (1_beverages)       1\n4    0.014887                                   (1_bottled beer)       1\n..        ...                                                ...     ...\n844  0.002265    (5_other vegetables, 3_pip fruit, 6_whole milk)       3\n845  0.002589  (4_other vegetables, 5_whole milk, 3_root vege...       3\n846  0.002913                   (4_curd, 3_whole milk, 5_yogurt)       3\n847  0.003236  (5_other vegetables, 4_root vegetables, 6_whol...       3\n848  0.002265       (5_other vegetables, 6_whole milk, 7_butter)       3\n\n[849 rows x 3 columns]",
      "text/html": "<div>\n<style scoped>\n    .dataframe tbody tr th:only-of-type {\n        vertical-align: middle;\n    }\n\n    .dataframe tbody tr th {\n        vertical-align: top;\n    }\n\n    .dataframe thead th {\n        text-align: right;\n    }\n</style>\n<table border=\"1\" class=\"dataframe\">\n  <thead>\n    <tr style=\"text-align: right;\">\n      <th></th>\n      <th>support</th>\n      <th>itemsets</th>\n      <th>length</th>\n    </tr>\n  </thead>\n  <tbody>\n    <tr>\n      <th>0</th>\n      <td>0.006472</td>\n      <td>(1_UHT-milk)</td>\n      <td>1</td>\n    </tr>\n    <tr>\n      <th>1</th>\n      <td>0.030421</td>\n      <td>(1_beef)</td>\n      <td>1</td>\n    </tr>\n    <tr>\n      <th>2</th>\n      <td>0.011974</td>\n      <td>(1_berries)</td>\n      <td>1</td>\n    </tr>\n    <tr>\n      <th>3</th>\n      <td>0.008414</td>\n      <td>(1_beverages)</td>\n      <td>1</td>\n    </tr>\n    <tr>\n      <th>4</th>\n      <td>0.014887</td>\n      <td>(1_bottled beer)</td>\n      <td>1</td>\n    </tr>\n    <tr>\n      <th>...</th>\n      <td>...</td>\n      <td>...</td>\n      <td>...</td>\n    </tr>\n    <tr>\n      <th>844</th>\n      <td>0.002265</td>\n      <td>(5_other vegetables, 3_pip fruit, 6_whole milk)</td>\n      <td>3</td>\n    </tr>\n    <tr>\n      <th>845</th>\n      <td>0.002589</td>\n      <td>(4_other vegetables, 5_whole milk, 3_root vege...</td>\n      <td>3</td>\n    </tr>\n    <tr>\n      <th>846</th>\n      <td>0.002913</td>\n      <td>(4_curd, 3_whole milk, 5_yogurt)</td>\n      <td>3</td>\n    </tr>\n    <tr>\n      <th>847</th>\n      <td>0.003236</td>\n      <td>(5_other vegetables, 4_root vegetables, 6_whol...</td>\n      <td>3</td>\n    </tr>\n    <tr>\n      <th>848</th>\n      <td>0.002265</td>\n      <td>(5_other vegetables, 6_whole milk, 7_butter)</td>\n      <td>3</td>\n    </tr>\n  </tbody>\n</table>\n<p>849 rows × 3 columns</p>\n</div>"
     },
     "execution_count": 13,
     "metadata": {},
     "output_type": "execute_result"
    }
   ],
   "source": [
    "df = basket_sets\n",
    "# Items with support greater than 0.002\n",
    "frequent_itemsets = apriori(basket_sets, min_support=0.002, use_colnames=True)\n",
    "# Count the number of items in a set\n",
    "frequent_itemsets['length'] = frequent_itemsets['itemsets'].apply(lambda x: len(x))\n",
    "frequent_itemsets"
   ]
  },
  {
   "cell_type": "code",
   "execution_count": 14,
   "metadata": {
    "cellView": "code",
    "colab": {
     "autoexec": {
      "startup": false,
      "wait_interval": 0
     }
    },
    "colab_type": "code",
    "id": "kJUzWdJTPI6z",
    "scrolled": true
   },
   "outputs": [
    {
     "data": {
      "text/plain": "      support                                           itemsets  length\n820  0.002589    (1_beef, 2_root vegetables, 3_other vegetables)       3\n821  0.002589      (3_whole milk, 1_chicken, 2_other vegetables)       3\n822  0.002589  (3_whole milk, 1_citrus fruit, 2_other vegetab...       3\n823  0.003236    (1_citrus fruit, 2_tropical fruit, 3_pip fruit)       3\n824  0.002589  (4_whole milk, 1_citrus fruit, 3_other vegetab...       3\n825  0.002265  (5_other vegetables, 1_frankfurter, 6_whole milk)       3\n826  0.002265         (4_whole milk, 3_other vegetables, 1_pork)       3\n827  0.003560  (3_whole milk, 1_root vegetables, 2_other vege...       3\n828  0.002589                  (2_rolls/buns, 3_soda, 1_sausage)       3\n829  0.002265      (4_whole milk, 3_other vegetables, 1_sausage)       3\n830  0.002265      (4_other vegetables, 5_whole milk, 1_sausage)       3\n831  0.002913  (3_whole milk, 1_tropical fruit, 2_other veget...       3\n832  0.002265  (2_citrus fruit, 4_other vegetables, 5_whole m...       3\n833  0.002265       (3_whole milk, 4_butter, 2_other vegetables)       3\n834  0.003560         (4_curd, 3_whole milk, 2_other vegetables)       3\n835  0.003883       (3_whole milk, 4_yogurt, 2_other vegetables)       3\n836  0.002265   (3_whole milk, 6_rolls/buns, 2_other vegetables)       3\n837  0.003236    (4_whole milk, 2_pip fruit, 3_other vegetables)       3\n838  0.005825  (4_whole milk, 2_root vegetables, 3_other vege...       3\n839  0.002265  (4_other vegetables, 2_tropical fruit, 3_pip f...       3\n840  0.003560       (4_whole milk, 5_butter, 3_other vegetables)       3\n841  0.002913       (4_whole milk, 3_other vegetables, 5_yogurt)       3\n842  0.003560       (4_whole milk, 6_yogurt, 3_other vegetables)       3\n843  0.002265  (5_other vegetables, 4_root vegetables, 3_pip ...       3\n844  0.002265    (5_other vegetables, 3_pip fruit, 6_whole milk)       3\n845  0.002589  (4_other vegetables, 5_whole milk, 3_root vege...       3\n846  0.002913                   (4_curd, 3_whole milk, 5_yogurt)       3\n847  0.003236  (5_other vegetables, 4_root vegetables, 6_whol...       3\n848  0.002265       (5_other vegetables, 6_whole milk, 7_butter)       3",
      "text/html": "<div>\n<style scoped>\n    .dataframe tbody tr th:only-of-type {\n        vertical-align: middle;\n    }\n\n    .dataframe tbody tr th {\n        vertical-align: top;\n    }\n\n    .dataframe thead th {\n        text-align: right;\n    }\n</style>\n<table border=\"1\" class=\"dataframe\">\n  <thead>\n    <tr style=\"text-align: right;\">\n      <th></th>\n      <th>support</th>\n      <th>itemsets</th>\n      <th>length</th>\n    </tr>\n  </thead>\n  <tbody>\n    <tr>\n      <th>820</th>\n      <td>0.002589</td>\n      <td>(1_beef, 2_root vegetables, 3_other vegetables)</td>\n      <td>3</td>\n    </tr>\n    <tr>\n      <th>821</th>\n      <td>0.002589</td>\n      <td>(3_whole milk, 1_chicken, 2_other vegetables)</td>\n      <td>3</td>\n    </tr>\n    <tr>\n      <th>822</th>\n      <td>0.002589</td>\n      <td>(3_whole milk, 1_citrus fruit, 2_other vegetab...</td>\n      <td>3</td>\n    </tr>\n    <tr>\n      <th>823</th>\n      <td>0.003236</td>\n      <td>(1_citrus fruit, 2_tropical fruit, 3_pip fruit)</td>\n      <td>3</td>\n    </tr>\n    <tr>\n      <th>824</th>\n      <td>0.002589</td>\n      <td>(4_whole milk, 1_citrus fruit, 3_other vegetab...</td>\n      <td>3</td>\n    </tr>\n    <tr>\n      <th>825</th>\n      <td>0.002265</td>\n      <td>(5_other vegetables, 1_frankfurter, 6_whole milk)</td>\n      <td>3</td>\n    </tr>\n    <tr>\n      <th>826</th>\n      <td>0.002265</td>\n      <td>(4_whole milk, 3_other vegetables, 1_pork)</td>\n      <td>3</td>\n    </tr>\n    <tr>\n      <th>827</th>\n      <td>0.003560</td>\n      <td>(3_whole milk, 1_root vegetables, 2_other vege...</td>\n      <td>3</td>\n    </tr>\n    <tr>\n      <th>828</th>\n      <td>0.002589</td>\n      <td>(2_rolls/buns, 3_soda, 1_sausage)</td>\n      <td>3</td>\n    </tr>\n    <tr>\n      <th>829</th>\n      <td>0.002265</td>\n      <td>(4_whole milk, 3_other vegetables, 1_sausage)</td>\n      <td>3</td>\n    </tr>\n    <tr>\n      <th>830</th>\n      <td>0.002265</td>\n      <td>(4_other vegetables, 5_whole milk, 1_sausage)</td>\n      <td>3</td>\n    </tr>\n    <tr>\n      <th>831</th>\n      <td>0.002913</td>\n      <td>(3_whole milk, 1_tropical fruit, 2_other veget...</td>\n      <td>3</td>\n    </tr>\n    <tr>\n      <th>832</th>\n      <td>0.002265</td>\n      <td>(2_citrus fruit, 4_other vegetables, 5_whole m...</td>\n      <td>3</td>\n    </tr>\n    <tr>\n      <th>833</th>\n      <td>0.002265</td>\n      <td>(3_whole milk, 4_butter, 2_other vegetables)</td>\n      <td>3</td>\n    </tr>\n    <tr>\n      <th>834</th>\n      <td>0.003560</td>\n      <td>(4_curd, 3_whole milk, 2_other vegetables)</td>\n      <td>3</td>\n    </tr>\n    <tr>\n      <th>835</th>\n      <td>0.003883</td>\n      <td>(3_whole milk, 4_yogurt, 2_other vegetables)</td>\n      <td>3</td>\n    </tr>\n    <tr>\n      <th>836</th>\n      <td>0.002265</td>\n      <td>(3_whole milk, 6_rolls/buns, 2_other vegetables)</td>\n      <td>3</td>\n    </tr>\n    <tr>\n      <th>837</th>\n      <td>0.003236</td>\n      <td>(4_whole milk, 2_pip fruit, 3_other vegetables)</td>\n      <td>3</td>\n    </tr>\n    <tr>\n      <th>838</th>\n      <td>0.005825</td>\n      <td>(4_whole milk, 2_root vegetables, 3_other vege...</td>\n      <td>3</td>\n    </tr>\n    <tr>\n      <th>839</th>\n      <td>0.002265</td>\n      <td>(4_other vegetables, 2_tropical fruit, 3_pip f...</td>\n      <td>3</td>\n    </tr>\n    <tr>\n      <th>840</th>\n      <td>0.003560</td>\n      <td>(4_whole milk, 5_butter, 3_other vegetables)</td>\n      <td>3</td>\n    </tr>\n    <tr>\n      <th>841</th>\n      <td>0.002913</td>\n      <td>(4_whole milk, 3_other vegetables, 5_yogurt)</td>\n      <td>3</td>\n    </tr>\n    <tr>\n      <th>842</th>\n      <td>0.003560</td>\n      <td>(4_whole milk, 6_yogurt, 3_other vegetables)</td>\n      <td>3</td>\n    </tr>\n    <tr>\n      <th>843</th>\n      <td>0.002265</td>\n      <td>(5_other vegetables, 4_root vegetables, 3_pip ...</td>\n      <td>3</td>\n    </tr>\n    <tr>\n      <th>844</th>\n      <td>0.002265</td>\n      <td>(5_other vegetables, 3_pip fruit, 6_whole milk)</td>\n      <td>3</td>\n    </tr>\n    <tr>\n      <th>845</th>\n      <td>0.002589</td>\n      <td>(4_other vegetables, 5_whole milk, 3_root vege...</td>\n      <td>3</td>\n    </tr>\n    <tr>\n      <th>846</th>\n      <td>0.002913</td>\n      <td>(4_curd, 3_whole milk, 5_yogurt)</td>\n      <td>3</td>\n    </tr>\n    <tr>\n      <th>847</th>\n      <td>0.003236</td>\n      <td>(5_other vegetables, 4_root vegetables, 6_whol...</td>\n      <td>3</td>\n    </tr>\n    <tr>\n      <th>848</th>\n      <td>0.002265</td>\n      <td>(5_other vegetables, 6_whole milk, 7_butter)</td>\n      <td>3</td>\n    </tr>\n  </tbody>\n</table>\n</div>"
     },
     "execution_count": 14,
     "metadata": {},
     "output_type": "execute_result"
    }
   ],
   "source": [
    "# Item combinations greater than 3 or more\n",
    "frequent_itemsets[frequent_itemsets['length'] >= 3]"
   ]
  },
  {
   "cell_type": "markdown",
   "metadata": {},
   "source": [
    "# Association Rules"
   ]
  },
  {
   "cell_type": "markdown",
   "metadata": {},
   "source": [
    "## Confidence\n",
    "# How likely is 1 item C (consequent) given A (antecedents) is purchased"
   ]
  },
  {
   "cell_type": "code",
   "execution_count": 15,
   "metadata": {
    "colab": {
     "autoexec": {
      "startup": false,
      "wait_interval": 0
     }
    },
    "colab_type": "code",
    "id": "5nqsUKw48HXd",
    "scrolled": true
   },
   "outputs": [
    {
     "data": {
      "text/plain": "   antecedents      consequents  antecedent support  consequent support  \\\n0  (2_sausage)  (1_frankfurter)            0.011327            0.064401   \n1   (7_pastry)  (1_frankfurter)            0.005178            0.064401   \n2      (2_ham)      (1_sausage)            0.007120            0.076052   \n3     (2_meat)      (1_sausage)            0.006796            0.076052   \n4     (3_beef)      (1_sausage)            0.004854            0.076052   \n\n    support  confidence       lift  leverage  conviction  \n0  0.011327    1.000000  15.527638  0.010597         inf  \n1  0.002589    0.500000   7.763819  0.002256    1.871197  \n2  0.004531    0.636364   8.367505  0.003989    2.540858  \n3  0.004854    0.714286   9.392097  0.004338    3.233819  \n4  0.002589    0.533333   7.012766  0.002220    1.979889  ",
      "text/html": "<div>\n<style scoped>\n    .dataframe tbody tr th:only-of-type {\n        vertical-align: middle;\n    }\n\n    .dataframe tbody tr th {\n        vertical-align: top;\n    }\n\n    .dataframe thead th {\n        text-align: right;\n    }\n</style>\n<table border=\"1\" class=\"dataframe\">\n  <thead>\n    <tr style=\"text-align: right;\">\n      <th></th>\n      <th>antecedents</th>\n      <th>consequents</th>\n      <th>antecedent support</th>\n      <th>consequent support</th>\n      <th>support</th>\n      <th>confidence</th>\n      <th>lift</th>\n      <th>leverage</th>\n      <th>conviction</th>\n    </tr>\n  </thead>\n  <tbody>\n    <tr>\n      <th>0</th>\n      <td>(2_sausage)</td>\n      <td>(1_frankfurter)</td>\n      <td>0.011327</td>\n      <td>0.064401</td>\n      <td>0.011327</td>\n      <td>1.000000</td>\n      <td>15.527638</td>\n      <td>0.010597</td>\n      <td>inf</td>\n    </tr>\n    <tr>\n      <th>1</th>\n      <td>(7_pastry)</td>\n      <td>(1_frankfurter)</td>\n      <td>0.005178</td>\n      <td>0.064401</td>\n      <td>0.002589</td>\n      <td>0.500000</td>\n      <td>7.763819</td>\n      <td>0.002256</td>\n      <td>1.871197</td>\n    </tr>\n    <tr>\n      <th>2</th>\n      <td>(2_ham)</td>\n      <td>(1_sausage)</td>\n      <td>0.007120</td>\n      <td>0.076052</td>\n      <td>0.004531</td>\n      <td>0.636364</td>\n      <td>8.367505</td>\n      <td>0.003989</td>\n      <td>2.540858</td>\n    </tr>\n    <tr>\n      <th>3</th>\n      <td>(2_meat)</td>\n      <td>(1_sausage)</td>\n      <td>0.006796</td>\n      <td>0.076052</td>\n      <td>0.004854</td>\n      <td>0.714286</td>\n      <td>9.392097</td>\n      <td>0.004338</td>\n      <td>3.233819</td>\n    </tr>\n    <tr>\n      <th>4</th>\n      <td>(3_beef)</td>\n      <td>(1_sausage)</td>\n      <td>0.004854</td>\n      <td>0.076052</td>\n      <td>0.002589</td>\n      <td>0.533333</td>\n      <td>7.012766</td>\n      <td>0.002220</td>\n      <td>1.979889</td>\n    </tr>\n  </tbody>\n</table>\n</div>"
     },
     "execution_count": 15,
     "metadata": {},
     "output_type": "execute_result"
    }
   ],
   "source": [
    "rules = association_rules(frequent_itemsets, metric=\"confidence\", min_threshold=0.5)\n",
    "rules.head()"
   ]
  },
  {
   "cell_type": "markdown",
   "metadata": {},
   "source": [
    "## Lift"
   ]
  },
  {
   "cell_type": "code",
   "execution_count": 16,
   "metadata": {
    "colab": {
     "autoexec": {
      "startup": false,
      "wait_interval": 0
     }
    },
    "colab_type": "code",
    "id": "VBrRO3xZ8IT2",
    "scrolled": true
   },
   "outputs": [
    {
     "data": {
      "text/plain": "            antecedents           consequents  antecedent support  \\\n0      (2_citrus fruit)              (1_beef)            0.028803   \n1              (1_beef)      (2_citrus fruit)            0.030421   \n2              (1_beef)  (2_other vegetables)            0.030421   \n3  (2_other vegetables)              (1_beef)            0.058900   \n4              (1_beef)   (2_root vegetables)            0.030421   \n\n   consequent support   support  confidence      lift  leverage  conviction  \n0            0.030421  0.005502    0.191011  6.278986  0.004625    1.198508  \n1            0.028803  0.005502    0.180851  6.278986  0.004625    1.185618  \n2            0.058900  0.003236    0.106383  1.806173  0.001444    1.053136  \n3            0.030421  0.003236    0.054945  1.806173  0.001444    1.025950  \n4            0.036893  0.005502    0.180851  4.902016  0.004379    1.175741  ",
      "text/html": "<div>\n<style scoped>\n    .dataframe tbody tr th:only-of-type {\n        vertical-align: middle;\n    }\n\n    .dataframe tbody tr th {\n        vertical-align: top;\n    }\n\n    .dataframe thead th {\n        text-align: right;\n    }\n</style>\n<table border=\"1\" class=\"dataframe\">\n  <thead>\n    <tr style=\"text-align: right;\">\n      <th></th>\n      <th>antecedents</th>\n      <th>consequents</th>\n      <th>antecedent support</th>\n      <th>consequent support</th>\n      <th>support</th>\n      <th>confidence</th>\n      <th>lift</th>\n      <th>leverage</th>\n      <th>conviction</th>\n    </tr>\n  </thead>\n  <tbody>\n    <tr>\n      <th>0</th>\n      <td>(2_citrus fruit)</td>\n      <td>(1_beef)</td>\n      <td>0.028803</td>\n      <td>0.030421</td>\n      <td>0.005502</td>\n      <td>0.191011</td>\n      <td>6.278986</td>\n      <td>0.004625</td>\n      <td>1.198508</td>\n    </tr>\n    <tr>\n      <th>1</th>\n      <td>(1_beef)</td>\n      <td>(2_citrus fruit)</td>\n      <td>0.030421</td>\n      <td>0.028803</td>\n      <td>0.005502</td>\n      <td>0.180851</td>\n      <td>6.278986</td>\n      <td>0.004625</td>\n      <td>1.185618</td>\n    </tr>\n    <tr>\n      <th>2</th>\n      <td>(1_beef)</td>\n      <td>(2_other vegetables)</td>\n      <td>0.030421</td>\n      <td>0.058900</td>\n      <td>0.003236</td>\n      <td>0.106383</td>\n      <td>1.806173</td>\n      <td>0.001444</td>\n      <td>1.053136</td>\n    </tr>\n    <tr>\n      <th>3</th>\n      <td>(2_other vegetables)</td>\n      <td>(1_beef)</td>\n      <td>0.058900</td>\n      <td>0.030421</td>\n      <td>0.003236</td>\n      <td>0.054945</td>\n      <td>1.806173</td>\n      <td>0.001444</td>\n      <td>1.025950</td>\n    </tr>\n    <tr>\n      <th>4</th>\n      <td>(1_beef)</td>\n      <td>(2_root vegetables)</td>\n      <td>0.030421</td>\n      <td>0.036893</td>\n      <td>0.005502</td>\n      <td>0.180851</td>\n      <td>4.902016</td>\n      <td>0.004379</td>\n      <td>1.175741</td>\n    </tr>\n  </tbody>\n</table>\n</div>"
     },
     "execution_count": 16,
     "metadata": {},
     "output_type": "execute_result"
    }
   ],
   "source": [
    "rules = association_rules(frequent_itemsets, metric=\"lift\", min_threshold=1)\n",
    "rules.head()"
   ]
  },
  {
   "cell_type": "markdown",
   "metadata": {},
   "source": [
    "## Lift and Confidence"
   ]
  },
  {
   "cell_type": "code",
   "execution_count": 17,
   "metadata": {
    "colab": {
     "autoexec": {
      "startup": false,
      "wait_interval": 0
     }
    },
    "colab_type": "code",
    "id": "d9LURi36ADLt"
   },
   "outputs": [
    {
     "data": {
      "text/plain": "                                 antecedents  \\\n92                               (2_sausage)   \n136                               (7_pastry)   \n238                                  (2_ham)   \n242                                 (2_meat)   \n258                                 (3_beef)   \n..                                       ...   \n958  (5_other vegetables, 4_root vegetables)   \n960        (4_root vegetables, 6_whole milk)   \n965           (5_other vegetables, 7_butter)   \n966                 (6_whole milk, 7_butter)   \n969                               (7_butter)   \n\n                            consequents  antecedent support  \\\n92                      (1_frankfurter)            0.011327   \n136                     (1_frankfurter)            0.005178   \n238                         (1_sausage)            0.007120   \n242                         (1_sausage)            0.006796   \n258                         (1_sausage)            0.004854   \n..                                  ...                 ...   \n958                      (6_whole milk)            0.005178   \n960                (5_other vegetables)            0.003883   \n965                      (6_whole milk)            0.002589   \n966                (5_other vegetables)            0.002913   \n969  (5_other vegetables, 6_whole milk)            0.004207   \n\n     consequent support   support  confidence       lift  leverage  conviction  \n92             0.064401  0.011327    1.000000  15.527638  0.010597         inf  \n136            0.064401  0.002589    0.500000   7.763819  0.002256    1.871197  \n238            0.076052  0.004531    0.636364   8.367505  0.003989    2.540858  \n242            0.076052  0.004854    0.714286   9.392097  0.004338    3.233819  \n258            0.076052  0.002589    0.533333   7.012766  0.002220    1.979889  \n..                  ...       ...         ...        ...       ...         ...  \n958            0.009385  0.003236    0.625000  66.594828  0.003188    2.641640  \n960            0.012621  0.003236    0.833333  66.025641  0.003187    5.924272  \n965            0.009385  0.002265    0.875000  93.232759  0.002241    7.924919  \n966            0.012621  0.002265    0.777778  61.623932  0.002229    4.443204  \n969            0.007443  0.002265    0.538462  72.341137  0.002234    2.150539  \n\n[76 rows x 9 columns]",
      "text/html": "<div>\n<style scoped>\n    .dataframe tbody tr th:only-of-type {\n        vertical-align: middle;\n    }\n\n    .dataframe tbody tr th {\n        vertical-align: top;\n    }\n\n    .dataframe thead th {\n        text-align: right;\n    }\n</style>\n<table border=\"1\" class=\"dataframe\">\n  <thead>\n    <tr style=\"text-align: right;\">\n      <th></th>\n      <th>antecedents</th>\n      <th>consequents</th>\n      <th>antecedent support</th>\n      <th>consequent support</th>\n      <th>support</th>\n      <th>confidence</th>\n      <th>lift</th>\n      <th>leverage</th>\n      <th>conviction</th>\n    </tr>\n  </thead>\n  <tbody>\n    <tr>\n      <th>92</th>\n      <td>(2_sausage)</td>\n      <td>(1_frankfurter)</td>\n      <td>0.011327</td>\n      <td>0.064401</td>\n      <td>0.011327</td>\n      <td>1.000000</td>\n      <td>15.527638</td>\n      <td>0.010597</td>\n      <td>inf</td>\n    </tr>\n    <tr>\n      <th>136</th>\n      <td>(7_pastry)</td>\n      <td>(1_frankfurter)</td>\n      <td>0.005178</td>\n      <td>0.064401</td>\n      <td>0.002589</td>\n      <td>0.500000</td>\n      <td>7.763819</td>\n      <td>0.002256</td>\n      <td>1.871197</td>\n    </tr>\n    <tr>\n      <th>238</th>\n      <td>(2_ham)</td>\n      <td>(1_sausage)</td>\n      <td>0.007120</td>\n      <td>0.076052</td>\n      <td>0.004531</td>\n      <td>0.636364</td>\n      <td>8.367505</td>\n      <td>0.003989</td>\n      <td>2.540858</td>\n    </tr>\n    <tr>\n      <th>242</th>\n      <td>(2_meat)</td>\n      <td>(1_sausage)</td>\n      <td>0.006796</td>\n      <td>0.076052</td>\n      <td>0.004854</td>\n      <td>0.714286</td>\n      <td>9.392097</td>\n      <td>0.004338</td>\n      <td>3.233819</td>\n    </tr>\n    <tr>\n      <th>258</th>\n      <td>(3_beef)</td>\n      <td>(1_sausage)</td>\n      <td>0.004854</td>\n      <td>0.076052</td>\n      <td>0.002589</td>\n      <td>0.533333</td>\n      <td>7.012766</td>\n      <td>0.002220</td>\n      <td>1.979889</td>\n    </tr>\n    <tr>\n      <th>...</th>\n      <td>...</td>\n      <td>...</td>\n      <td>...</td>\n      <td>...</td>\n      <td>...</td>\n      <td>...</td>\n      <td>...</td>\n      <td>...</td>\n      <td>...</td>\n    </tr>\n    <tr>\n      <th>958</th>\n      <td>(5_other vegetables, 4_root vegetables)</td>\n      <td>(6_whole milk)</td>\n      <td>0.005178</td>\n      <td>0.009385</td>\n      <td>0.003236</td>\n      <td>0.625000</td>\n      <td>66.594828</td>\n      <td>0.003188</td>\n      <td>2.641640</td>\n    </tr>\n    <tr>\n      <th>960</th>\n      <td>(4_root vegetables, 6_whole milk)</td>\n      <td>(5_other vegetables)</td>\n      <td>0.003883</td>\n      <td>0.012621</td>\n      <td>0.003236</td>\n      <td>0.833333</td>\n      <td>66.025641</td>\n      <td>0.003187</td>\n      <td>5.924272</td>\n    </tr>\n    <tr>\n      <th>965</th>\n      <td>(5_other vegetables, 7_butter)</td>\n      <td>(6_whole milk)</td>\n      <td>0.002589</td>\n      <td>0.009385</td>\n      <td>0.002265</td>\n      <td>0.875000</td>\n      <td>93.232759</td>\n      <td>0.002241</td>\n      <td>7.924919</td>\n    </tr>\n    <tr>\n      <th>966</th>\n      <td>(6_whole milk, 7_butter)</td>\n      <td>(5_other vegetables)</td>\n      <td>0.002913</td>\n      <td>0.012621</td>\n      <td>0.002265</td>\n      <td>0.777778</td>\n      <td>61.623932</td>\n      <td>0.002229</td>\n      <td>4.443204</td>\n    </tr>\n    <tr>\n      <th>969</th>\n      <td>(7_butter)</td>\n      <td>(5_other vegetables, 6_whole milk)</td>\n      <td>0.004207</td>\n      <td>0.007443</td>\n      <td>0.002265</td>\n      <td>0.538462</td>\n      <td>72.341137</td>\n      <td>0.002234</td>\n      <td>2.150539</td>\n    </tr>\n  </tbody>\n</table>\n<p>76 rows × 9 columns</p>\n</div>"
     },
     "execution_count": 17,
     "metadata": {},
     "output_type": "execute_result"
    }
   ],
   "source": [
    "rules[(rules['lift'] >= 5) & (rules['confidence']>= 0.5)]"
   ]
  },
  {
   "cell_type": "code",
   "execution_count": null,
   "metadata": {},
   "outputs": [],
   "source": []
  }
 ],
 "metadata": {
  "colab": {
   "collapsed_sections": [],
   "default_view": {},
   "name": "Market Basket Analysis",
   "provenance": [],
   "version": "0.3.2",
   "views": {}
  },
  "kernelspec": {
   "display_name": "Python 3",
   "language": "python",
   "name": "python3"
  },
  "language_info": {
   "codemirror_mode": {
    "name": "ipython",
    "version": 3
   },
   "file_extension": ".py",
   "mimetype": "text/x-python",
   "name": "python",
   "nbconvert_exporter": "python",
   "pygments_lexer": "ipython3",
   "version": "3.7.3"
  }
 },
 "nbformat": 4,
 "nbformat_minor": 1
}